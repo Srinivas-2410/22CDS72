{
 "cells": [
  {
   "cell_type": "code",
   "execution_count": null,
   "id": "f177a8d7",
   "metadata": {},
   "outputs": [],
   "source": [
    "Consider the monthly electricity bills (in ₹) of 25 households in a residential neighbourhood:\n",
    "\n",
    "Electricity Bills (₹) = [850, 900, 950, 980, 1000, 1020, 1050,\n",
    "1075, 1100, 1125, 1150, 1175, 1200, 1250, 1300, 1350, 1400, 1450, 1500, 1600,\n",
    "1700, 1800, 1900, 2100, 2300]\n",
    "\n",
    "a.      Compute the Q1, Median and Q3  of the electricity bill data.\n",
    "\n",
    "b.    Calculate the IQR using the formula: IQR = Q3 -Q1.\n",
    " Discuss how the IQR helps in understanding among households and how it can\n",
    "indicate such as unusually high consumption.\n",
    "\n",
    "c.  Plot the histogram and mark mean, median and mode\n",
    "d. Plot the box plot with Q1, median, mode and outlier values marked\n",
    "e. Compute the skewness. Is it a right skewed or left skewed distribution.  Justify your answer with 1) values of skewness computed 2)  boxplot and 3) values of mean, median and mode."
   ]
  },
  {
   "cell_type": "code",
   "execution_count": 4,
   "id": "3176c555",
   "metadata": {},
   "outputs": [],
   "source": [
    "import numpy as np\n",
    "import matplotlib.pyplot as plt\n",
    "import pandas as pd"
   ]
  },
  {
   "cell_type": "code",
   "execution_count": 5,
   "id": "cd3ba1df",
   "metadata": {},
   "outputs": [
    {
     "data": {
      "text/html": [
       "<div>\n",
       "<style scoped>\n",
       "    .dataframe tbody tr th:only-of-type {\n",
       "        vertical-align: middle;\n",
       "    }\n",
       "\n",
       "    .dataframe tbody tr th {\n",
       "        vertical-align: top;\n",
       "    }\n",
       "\n",
       "    .dataframe thead th {\n",
       "        text-align: right;\n",
       "    }\n",
       "</style>\n",
       "<table border=\"1\" class=\"dataframe\">\n",
       "  <thead>\n",
       "    <tr style=\"text-align: right;\">\n",
       "      <th></th>\n",
       "      <th>850</th>\n",
       "    </tr>\n",
       "  </thead>\n",
       "  <tbody>\n",
       "    <tr>\n",
       "      <th>0</th>\n",
       "      <td>900</td>\n",
       "    </tr>\n",
       "    <tr>\n",
       "      <th>1</th>\n",
       "      <td>950</td>\n",
       "    </tr>\n",
       "    <tr>\n",
       "      <th>2</th>\n",
       "      <td>980</td>\n",
       "    </tr>\n",
       "    <tr>\n",
       "      <th>3</th>\n",
       "      <td>1000</td>\n",
       "    </tr>\n",
       "    <tr>\n",
       "      <th>4</th>\n",
       "      <td>1020</td>\n",
       "    </tr>\n",
       "    <tr>\n",
       "      <th>5</th>\n",
       "      <td>1050</td>\n",
       "    </tr>\n",
       "    <tr>\n",
       "      <th>6</th>\n",
       "      <td>1075</td>\n",
       "    </tr>\n",
       "    <tr>\n",
       "      <th>7</th>\n",
       "      <td>1100</td>\n",
       "    </tr>\n",
       "    <tr>\n",
       "      <th>8</th>\n",
       "      <td>1125</td>\n",
       "    </tr>\n",
       "    <tr>\n",
       "      <th>9</th>\n",
       "      <td>1150</td>\n",
       "    </tr>\n",
       "    <tr>\n",
       "      <th>10</th>\n",
       "      <td>1175</td>\n",
       "    </tr>\n",
       "    <tr>\n",
       "      <th>11</th>\n",
       "      <td>1200</td>\n",
       "    </tr>\n",
       "    <tr>\n",
       "      <th>12</th>\n",
       "      <td>1250</td>\n",
       "    </tr>\n",
       "    <tr>\n",
       "      <th>13</th>\n",
       "      <td>1300</td>\n",
       "    </tr>\n",
       "    <tr>\n",
       "      <th>14</th>\n",
       "      <td>1350</td>\n",
       "    </tr>\n",
       "    <tr>\n",
       "      <th>15</th>\n",
       "      <td>1400</td>\n",
       "    </tr>\n",
       "    <tr>\n",
       "      <th>16</th>\n",
       "      <td>1450</td>\n",
       "    </tr>\n",
       "    <tr>\n",
       "      <th>17</th>\n",
       "      <td>1500</td>\n",
       "    </tr>\n",
       "    <tr>\n",
       "      <th>18</th>\n",
       "      <td>1600</td>\n",
       "    </tr>\n",
       "    <tr>\n",
       "      <th>19</th>\n",
       "      <td>1700</td>\n",
       "    </tr>\n",
       "    <tr>\n",
       "      <th>20</th>\n",
       "      <td>1800</td>\n",
       "    </tr>\n",
       "    <tr>\n",
       "      <th>21</th>\n",
       "      <td>1900</td>\n",
       "    </tr>\n",
       "    <tr>\n",
       "      <th>22</th>\n",
       "      <td>2100</td>\n",
       "    </tr>\n",
       "    <tr>\n",
       "      <th>23</th>\n",
       "      <td>2300</td>\n",
       "    </tr>\n",
       "  </tbody>\n",
       "</table>\n",
       "</div>"
      ],
      "text/plain": [
       "     850\n",
       "0    900\n",
       "1    950\n",
       "2    980\n",
       "3   1000\n",
       "4   1020\n",
       "5   1050\n",
       "6   1075\n",
       "7   1100\n",
       "8   1125\n",
       "9   1150\n",
       "10  1175\n",
       "11  1200\n",
       "12  1250\n",
       "13  1300\n",
       "14  1350\n",
       "15  1400\n",
       "16  1450\n",
       "17  1500\n",
       "18  1600\n",
       "19  1700\n",
       "20  1800\n",
       "21  1900\n",
       "22  2100\n",
       "23  2300"
      ]
     },
     "execution_count": 5,
     "metadata": {},
     "output_type": "execute_result"
    }
   ],
   "source": [
    "data=pd.read_csv(\"monthly_electricity_bill - monthly_electricity_bill.csv\")\n",
    "data\n"
   ]
  },
  {
   "cell_type": "code",
   "execution_count": 7,
   "id": "7f49ee95",
   "metadata": {},
   "outputs": [
    {
     "data": {
      "text/html": [
       "<div>\n",
       "<style scoped>\n",
       "    .dataframe tbody tr th:only-of-type {\n",
       "        vertical-align: middle;\n",
       "    }\n",
       "\n",
       "    .dataframe tbody tr th {\n",
       "        vertical-align: top;\n",
       "    }\n",
       "\n",
       "    .dataframe thead th {\n",
       "        text-align: right;\n",
       "    }\n",
       "</style>\n",
       "<table border=\"1\" class=\"dataframe\">\n",
       "  <thead>\n",
       "    <tr style=\"text-align: right;\">\n",
       "      <th></th>\n",
       "      <th>850</th>\n",
       "    </tr>\n",
       "  </thead>\n",
       "  <tbody>\n",
       "    <tr>\n",
       "      <th>count</th>\n",
       "      <td>24.000000</td>\n",
       "    </tr>\n",
       "    <tr>\n",
       "      <th>mean</th>\n",
       "      <td>1348.958333</td>\n",
       "    </tr>\n",
       "    <tr>\n",
       "      <th>std</th>\n",
       "      <td>379.080636</td>\n",
       "    </tr>\n",
       "    <tr>\n",
       "      <th>min</th>\n",
       "      <td>900.000000</td>\n",
       "    </tr>\n",
       "    <tr>\n",
       "      <th>25%</th>\n",
       "      <td>1068.750000</td>\n",
       "    </tr>\n",
       "    <tr>\n",
       "      <th>50%</th>\n",
       "      <td>1225.000000</td>\n",
       "    </tr>\n",
       "    <tr>\n",
       "      <th>75%</th>\n",
       "      <td>1525.000000</td>\n",
       "    </tr>\n",
       "    <tr>\n",
       "      <th>max</th>\n",
       "      <td>2300.000000</td>\n",
       "    </tr>\n",
       "  </tbody>\n",
       "</table>\n",
       "</div>"
      ],
      "text/plain": [
       "               850\n",
       "count    24.000000\n",
       "mean   1348.958333\n",
       "std     379.080636\n",
       "min     900.000000\n",
       "25%    1068.750000\n",
       "50%    1225.000000\n",
       "75%    1525.000000\n",
       "max    2300.000000"
      ]
     },
     "execution_count": 7,
     "metadata": {},
     "output_type": "execute_result"
    }
   ],
   "source": [
    "data.describe()"
   ]
  },
  {
   "cell_type": "code",
   "execution_count": 8,
   "id": "dc6f2522",
   "metadata": {},
   "outputs": [
    {
     "data": {
      "text/plain": [
       "<bound method DataFrame.info of      850\n",
       "0    900\n",
       "1    950\n",
       "2    980\n",
       "3   1000\n",
       "4   1020\n",
       "5   1050\n",
       "6   1075\n",
       "7   1100\n",
       "8   1125\n",
       "9   1150\n",
       "10  1175\n",
       "11  1200\n",
       "12  1250\n",
       "13  1300\n",
       "14  1350\n",
       "15  1400\n",
       "16  1450\n",
       "17  1500\n",
       "18  1600\n",
       "19  1700\n",
       "20  1800\n",
       "21  1900\n",
       "22  2100\n",
       "23  2300>"
      ]
     },
     "execution_count": 8,
     "metadata": {},
     "output_type": "execute_result"
    }
   ],
   "source": [
    "data.info"
   ]
  },
  {
   "cell_type": "code",
   "execution_count": 9,
   "id": "3eeb2112",
   "metadata": {},
   "outputs": [
    {
     "data": {
      "text/plain": [
       "<bound method DataFrame.info of      850\n",
       "0    900\n",
       "1    950\n",
       "2    980\n",
       "3   1000\n",
       "4   1020\n",
       "5   1050\n",
       "6   1075\n",
       "7   1100\n",
       "8   1125\n",
       "9   1150\n",
       "10  1175\n",
       "11  1200\n",
       "12  1250\n",
       "13  1300\n",
       "14  1350\n",
       "15  1400\n",
       "16  1450\n",
       "17  1500\n",
       "18  1600\n",
       "19  1700\n",
       "20  1800\n",
       "21  1900\n",
       "22  2100\n",
       "23  2300>"
      ]
     },
     "execution_count": 9,
     "metadata": {},
     "output_type": "execute_result"
    }
   ],
   "source": [
    "data.info"
   ]
  },
  {
   "cell_type": "code",
   "execution_count": 10,
   "id": "795db2d2",
   "metadata": {},
   "outputs": [
    {
     "data": {
      "text/plain": [
       "850    0\n",
       "dtype: int64"
      ]
     },
     "execution_count": 10,
     "metadata": {},
     "output_type": "execute_result"
    }
   ],
   "source": [
    "data.isnull().sum()"
   ]
  },
  {
   "cell_type": "code",
   "execution_count": 15,
   "id": "65ed2c5c",
   "metadata": {},
   "outputs": [],
   "source": [
    "data.columns = [\"monthly_bill\"]\n"
   ]
  },
  {
   "cell_type": "markdown",
   "id": "72c56e48",
   "metadata": {},
   "source": [
    "a.Compute the Q1, Median and Q3  of the electricity bill data."
   ]
  },
  {
   "cell_type": "code",
   "execution_count": 16,
   "id": "11452e60",
   "metadata": {},
   "outputs": [
    {
     "data": {
      "text/html": [
       "<div>\n",
       "<style scoped>\n",
       "    .dataframe tbody tr th:only-of-type {\n",
       "        vertical-align: middle;\n",
       "    }\n",
       "\n",
       "    .dataframe tbody tr th {\n",
       "        vertical-align: top;\n",
       "    }\n",
       "\n",
       "    .dataframe thead th {\n",
       "        text-align: right;\n",
       "    }\n",
       "</style>\n",
       "<table border=\"1\" class=\"dataframe\">\n",
       "  <thead>\n",
       "    <tr style=\"text-align: right;\">\n",
       "      <th></th>\n",
       "      <th>monthly_bill</th>\n",
       "    </tr>\n",
       "  </thead>\n",
       "  <tbody>\n",
       "    <tr>\n",
       "      <th>0.25</th>\n",
       "      <td>1068.75</td>\n",
       "    </tr>\n",
       "    <tr>\n",
       "      <th>0.75</th>\n",
       "      <td>1525.00</td>\n",
       "    </tr>\n",
       "  </tbody>\n",
       "</table>\n",
       "</div>"
      ],
      "text/plain": [
       "      monthly_bill\n",
       "0.25       1068.75\n",
       "0.75       1525.00"
      ]
     },
     "execution_count": 16,
     "metadata": {},
     "output_type": "execute_result"
    }
   ],
   "source": [
    "data.quantile([0.25,0.75])"
   ]
  },
  {
   "cell_type": "code",
   "execution_count": 17,
   "id": "f1ad7b25",
   "metadata": {},
   "outputs": [
    {
     "data": {
      "text/plain": [
       "monthly_bill    1225.0\n",
       "dtype: float64"
      ]
     },
     "execution_count": 17,
     "metadata": {},
     "output_type": "execute_result"
    }
   ],
   "source": [
    "data.median()"
   ]
  },
  {
   "cell_type": "markdown",
   "id": "da685565",
   "metadata": {},
   "source": [
    "2.Calculate the IQR using the formula: IQR = Q3 -Q1.\n",
    " Discuss how the IQR helps in understanding among households and how it can\n",
    "indicate such as unusually high consumption."
   ]
  },
  {
   "cell_type": "code",
   "execution_count": 21,
   "id": "a7e632e1",
   "metadata": {},
   "outputs": [
    {
     "data": {
      "text/plain": [
       "monthly_bill    456.25\n",
       "dtype: float64"
      ]
     },
     "execution_count": 21,
     "metadata": {},
     "output_type": "execute_result"
    }
   ],
   "source": [
    "\n",
    "Q3=data.quantile(0.75) \n",
    "Q1=data.quantile(0.25)\n",
    "IQR=Q3-Q1\n",
    "IQR"
   ]
  },
  {
   "cell_type": "markdown",
   "id": "cc3fe7c4",
   "metadata": {},
   "source": [
    "The Interquartile Range (IQR) shows how spread out the middle 50% of household data is. A small IQR means most households consume similarly, while a large IQR shows wide variation. It also helps spot unusual cases: any household using more than Q3 + 1.5×IQR (or less than Q1 – 1.5×IQR) is flagged as an outlier. Thus, IQR not only reflects typical household patterns but also identifies unusually high consumption that may need attention.\n"
   ]
  },
  {
   "cell_type": "markdown",
   "id": "d8ee2aac",
   "metadata": {},
   "source": [
    "c.  Plot the histogram and mark mean, median and mode"
   ]
  },
  {
   "cell_type": "code",
   "execution_count": null,
   "id": "3545e208",
   "metadata": {},
   "outputs": [
    {
     "data": {
      "image/png": "[encoded data removed]",
      "text/plain": [
       "<Figure size 800x500 with 1 Axes>"
      ]
     },
     "metadata": {},
     "output_type": "display_data"
    }
   ],
   "source": [
    "\n",
    "from statistics import mode\n",
    "\n",
    "\n",
    "mean_val = data[\"monthly_bill\"].mean()\n",
    "median_val = data[\"monthly_bill\"].median()\n",
    "mode_val = mode(data[\"monthly_bill\"])\n",
    "\n",
    "\n",
    "plt.figure(figsize=(8,5))\n",
    "plt.hist(data[\"monthly_bill\"], bins=6, edgecolor='black', alpha=0.7)\n",
    "\n",
    "\n",
    "plt.axvline(mean_val, color='red', linestyle='dashed', linewidth=2, label=f\"Mean: {mean_val:.1f}\")\n",
    "plt.axvline(median_val, color='green', linestyle='dashed', linewidth=2, label=f\"Median: {median_val}\")\n",
    "plt.axvline(mode_val, color='blue', linestyle='dashed', linewidth=2, label=f\"Mode: {mode_val}\")\n",
    "\n",
    "plt.title(\"Household Electricity Consumption Histogram\")\n",
    "plt.xlabel(\"Price\")\n",
    "plt.ylabel(\"Frequency\")\n",
    "plt.legend()\n",
    "plt.show()\n"
   ]
  }
 ],
 "metadata": {
  "kernelspec": {
   "display_name": "Python 3",
   "language": "python",
   "name": "python3"
  },
  "language_info": {
   "codemirror_mode": {
    "name": "ipython",
    "version": 3
   },
   "file_extension": ".py",
   "mimetype": "text/x-python",
   "name": "python",
   "nbconvert_exporter": "python",
   "pygments_lexer": "ipython3",
   "version": "3.12.10"
  }
 },
 "nbformat": 4,
 "nbformat_minor": 5
}
